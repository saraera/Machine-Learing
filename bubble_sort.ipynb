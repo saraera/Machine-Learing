{
  "nbformat": 4,
  "nbformat_minor": 0,
  "metadata": {
    "colab": {
      "provenance": [],
      "authorship_tag": "ABX9TyOKhZG/71uJjyPv27tBq5SG",
      "include_colab_link": true
    },
    "kernelspec": {
      "name": "python3",
      "display_name": "Python 3"
    },
    "language_info": {
      "name": "python"
    }
  },
  "cells": [
    {
      "cell_type": "markdown",
      "metadata": {
        "id": "view-in-github",
        "colab_type": "text"
      },
      "source": [
        "<a href=\"https://colab.research.google.com/github/saraera/Machine-Learing/blob/main/bubble_sort.ipynb\" target=\"_parent\"><img src=\"https://colab.research.google.com/assets/colab-badge.svg\" alt=\"Open In Colab\"/></a>"
      ]
    },
    {
      "cell_type": "code",
      "execution_count": 3,
      "metadata": {
        "colab": {
          "base_uri": "https://localhost:8080/"
        },
        "id": "JvF1kxl9O_2B",
        "outputId": "e0b410ee-6817-4258-b12a-221bc70bf55d"
      },
      "outputs": [
        {
          "output_type": "stream",
          "name": "stdout",
          "text": [
            "[11, 35.12, 65, 89]\n"
          ]
        }
      ],
      "source": [
        "list=[35.12,89,65,11]\n",
        "list.sort()\n",
        "print(list)"
      ]
    },
    {
      "cell_type": "markdown",
      "source": [
        "bubble sort"
      ],
      "metadata": {
        "id": "2o8nz25XPbcc"
      }
    }
  ]
}